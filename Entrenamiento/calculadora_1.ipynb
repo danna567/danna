{
  "nbformat": 4,
  "nbformat_minor": 0,
  "metadata": {
    "colab": {
      "provenance": []
    },
    "kernelspec": {
      "name": "python3",
      "display_name": "Python 3"
    },
    "language_info": {
      "name": "python"
    }
  },
  "cells": [
    {
      "cell_type": "markdown",
      "source": [
        "#calculadora sencilla"
      ],
      "metadata": {
        "id": "2DW9aoXMSbux"
      }
    },
    {
      "cell_type": "code",
      "execution_count": null,
      "metadata": {
        "colab": {
          "base_uri": "https://localhost:8080/"
        },
        "id": "ENsufxP7Pxsu",
        "outputId": "abee4655-7608-46b3-b323-9b931a74a536"
      },
      "outputs": [
        {
          "name": "stdout",
          "output_type": "stream",
          "text": [
            "bienvenido a tu primera calculadora\n",
            "por favor ingrese el primer numero: 1\n"
          ]
        }
      ],
      "source": [
        "  print(\"bienvenido a tu primera calculadora\")\n",
        "\n",
        "  #se solicitan los numeros\n",
        "  num1 = float(input(\"por favor ingrese el primer numero: \"))\n",
        "  num2 = float(input(\"por favor ingrese el segundo numero: \"))\n",
        "\n",
        "  #se muestran las opciones para hacer los calculos\n",
        "  print(\"\"\"Elige la operacion que se desea realizar:\n",
        "  1. suma (+)\n",
        "  2. resta (-)\n",
        "  3. multiplicacion(*)\n",
        "  4. divicion (/)\"\"\")\n",
        "\n",
        "  opcion = input(\"ingresar la opcion deseada de 1 a 4: \")\n",
        "  #definir el codigo para la operacion\n",
        "  if opcion ==\"1\":\n",
        "    resultado = num1 + num2\n",
        "    operacion =\"+\"\n",
        "  elif opcion ==\"2\":\n",
        "   resultado = num1 - num2\n",
        "   operacion =\"-\"\n",
        "  elif opcion ==\"3\":\n",
        "   resultado = num1 * num2\n",
        "   operacion =\"*\"\n",
        "  elif opcion ==\"4\":\n",
        "    if num2 != 0:\n",
        "      resultado = num1/num2\n",
        "      operacion = \"/\"\n",
        "    else:\n",
        "      print(\"la divicion entre cero no esta definida.\")\n",
        "  else:\n",
        "    print(\"opcion invalida\")\n",
        "\n",
        "  print(f\"resultado:{num1}{operacion}{num2}={resultado}\")"
      ]
    }
  ]
}