{
  "nbformat": 4,
  "nbformat_minor": 0,
  "metadata": {
    "colab": {
      "provenance": []
    },
    "kernelspec": {
      "name": "python3",
      "display_name": "Python 3"
    },
    "language_info": {
      "name": "python"
    }
  },
  "cells": [
    {
      "cell_type": "code",
      "execution_count": null,
      "metadata": {
        "id": "TD15fZ6HpVQJ",
        "colab": {
          "base_uri": "https://localhost:8080/"
        },
        "outputId": "45d312a2-de2d-475d-9938-e25f7ae65502"
      },
      "outputs": [
        {
          "output_type": "stream",
          "name": "stdout",
          "text": [
            "Bienvenido a la Súper Calculadora\n",
            "Ingresa el primer número: 25\n",
            "Ingresa el segundo número: 0\n",
            "\n",
            "Selecciona la operación que deseas realizar:\n",
            "1. Suma\n",
            "2. Resta\n",
            "3. Multiplicación\n",
            "4. División\n",
            "5. Coseno del primer número\n",
            "6. Seno del primer número\n",
            "7. Logaritmo base 10 del primer número\n",
            "8. Elevar el primer número al segundo\n",
            "9. Raíz cuadrada del primer número\n",
            "\n",
            "Ingresa el número de la operación: 9\n",
            "\n",
            "Resultado:\n",
            "Raíz cuadrada de 25.0: 5.0\n"
          ]
        }
      ],
      "source": [
        "import math\n",
        "\n",
        "def calculadora():\n",
        "    print(\"Bienvenido a la Súper Calculadora\")\n",
        "\n",
        "    # Pedimos los números\n",
        "    num1 = float(input(\"Ingresa el primer número: \"))\n",
        "    num2 = float(input(\"Ingresa el segundo número: \"))\n",
        "\n",
        "    # Mostramos las opciones\n",
        "    print(\"\\nSelecciona la operación que deseas realizar:\")\n",
        "    print(\"1. Suma\")\n",
        "    print(\"2. Resta\")\n",
        "    print(\"3. Multiplicación\")\n",
        "    print(\"4. División\")\n",
        "    print(\"5. Coseno del primer número\")\n",
        "    print(\"6. Seno del primer número\")\n",
        "    print(\"7. Logaritmo base 10 del primer número\")\n",
        "    print(\"8. Elevar el primer número al segundo\")\n",
        "    print(\"9. Raíz cuadrada del primer número\")\n",
        "\n",
        "    opcion = input(\"\\nIngresa el número de la operación: \")\n",
        "\n",
        "    print(\"\\nResultado:\")\n",
        "    if opcion == \"1\":\n",
        "        print(f\"Suma: {num1 + num2}\")\n",
        "    elif opcion == \"2\":\n",
        "        print(f\"Resta: {num1 - num2}\")\n",
        "    elif opcion == \"3\":\n",
        "        print(f\"Multiplicación: {num1 * num2}\")\n",
        "    elif opcion == \"4\":\n",
        "        if num2 != 0:\n",
        "            print(f\"División: {num1 / num2}\")\n",
        "        else:\n",
        "            print(\"Error: No se puede dividir por cero.\")\n",
        "    elif opcion == \"5\":\n",
        "        print(f\"Coseno: {math.cos(num1)}\")\n",
        "    elif opcion == \"6\":\n",
        "        print(f\"Seno: {math.sin(num1)}\")\n",
        "    elif opcion == \"7\":\n",
        "        if num1 > 0:\n",
        "            print(f\"Logaritmo base 10: {math.log10(num1)}\")\n",
        "        else:\n",
        "            print(\"Error: El logaritmo sólo se puede calcular para números positivos.\")\n",
        "    elif opcion == \"8\":\n",
        "        print(f\"{num1} elevado a {num2}: {math.pow(num1, num2)}\")\n",
        "    elif opcion == \"9\":\n",
        "        if num2 >= 0:\n",
        "            print(f\"Raíz cuadrada de {num1}: {math.sqrt(num1)}\")\n",
        "        else:\n",
        "            print(\"Error: No se puede calcular la raíz cuadrada de un número negativo.\")\n",
        "    else:\n",
        "        print(\"Opción no válida.\")\n",
        "\n",
        "# Llamamos a la función\n",
        "calculadora()"
      ]
    },
    {
      "cell_type": "code",
      "source": [
        "s = [ 1,2,3,4,5,6,7,8,9,10]\n",
        "for i in s:\n",
        "    print(i)"
      ],
      "metadata": {
        "colab": {
          "base_uri": "https://localhost:8080/"
        },
        "id": "wvwCzeEWARiY",
        "outputId": "2c0f5298-2e21-4afe-af04-211e13923de3"
      },
      "execution_count": null,
      "outputs": [
        {
          "output_type": "stream",
          "name": "stdout",
          "text": [
            "1\n",
            "2\n",
            "3\n",
            "4\n",
            "5\n",
            "6\n",
            "7\n",
            "8\n",
            "9\n",
            "10\n"
          ]
        }
      ]
    },
    {
      "cell_type": "markdown",
      "source": [],
      "metadata": {
        "id": "tr9_GhKFqYMZ"
      }
    }
  ]
}