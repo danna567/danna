{
  "nbformat": 4,
  "nbformat_minor": 0,
  "metadata": {
    "colab": {
      "provenance": []
    },
    "kernelspec": {
      "name": "python3",
      "display_name": "Python 3"
    },
    "language_info": {
      "name": "python"
    }
  },
  "cells": [
    {
      "cell_type": "code",
      "execution_count": null,
      "metadata": {
        "colab": {
          "base_uri": "https://localhost:8080/"
        },
        "id": "Ym_NgW0_1Jt-",
        "outputId": "c3c73f3b-5a0b-43a3-9e26-8e205b4f85f0"
      },
      "outputs": [
        {
          "output_type": "stream",
          "name": "stdout",
          "text": [
            "Valor1\n",
            "¡Hola desde el método 1!\n",
            "El atributo2 se actualizó a: 42\n",
            "42\n"
          ]
        }
      ],
      "source": [
        "class MiClase:\n",
        "    # Atributos\n",
        "    atributo1 = \"Valor1\"\n",
        "    atributo2 = 0\n",
        "\n",
        "    # Métodos\n",
        "    def metodo1(self):\n",
        "        print(\"¡Hola desde el método 1!\")\n",
        "\n",
        "    def metodo2(self, parametro):\n",
        "        self.atributo2 = parametro\n",
        "        print(f\"El atributo2 se actualizó a: {self.atributo2}\")\n",
        "\n",
        "# Creación de objetos a partir de la clase\n",
        "objeto1 = MiClase()\n",
        "objeto2 = MiClase()\n",
        "\n",
        "# Acceso a atributos y llamada a métodos\n",
        "print(objeto1.atributo1)  # Salida: Valor1\n",
        "objeto1.metodo1()         # Salida: ¡Hola desde el método 1!\n",
        "\n",
        "objeto2.metodo2(42)       # Salida: El atributo2 se actualizó a: 42\n",
        "print(objeto2.atributo2)  # Salida: 42\n",
        "\n"
      ]
    },
    {
      "cell_type": "code",
      "source": [
        "class Coche:\n",
        "    def __init__(self, marca, modelo, velocidad):\n",
        "        self.marca = marca\n",
        "        self.modelo = modelo\n",
        "        self.velocidad = velocidad\n",
        "\n",
        "    def acelerar(self, aumento):\n",
        "        self.velocidad += aumento\n",
        "        print(f\"El coche {self.marca} {self.modelo} aceleró. Nueva velocidad: {self.velocidad} km/h.\")\n",
        "\n",
        "# Creación de un objeto de tipo Coche\n",
        "mi_coche = Coche(\"Toyota\", \"Camry\", 50)\n",
        "\n",
        "# Llamada al método acelerar\n",
        "mi_coche.acelerar(20)"
      ],
      "metadata": {
        "colab": {
          "base_uri": "https://localhost:8080/"
        },
        "id": "_GmhEm9TNtUi",
        "outputId": "1ae43e95-c921-42b7-f666-8eea443ff9a2"
      },
      "execution_count": null,
      "outputs": [
        {
          "output_type": "stream",
          "name": "stdout",
          "text": [
            "El coche Toyota Camry aceleró. Nueva velocidad: 70 km/h.\n"
          ]
        }
      ]
    },
    {
      "cell_type": "code",
      "source": [
        "#Herencia\n",
        "class Animal:\n",
        "    def __init__(self, nombre):\n",
        "        self.nombre = nombre\n",
        "\n",
        "    def hacer_sonido(self):\n",
        "        pass\n",
        "\n",
        "class Perro(Animal):\n",
        "    def hacer_sonido(self):\n",
        "        return \"Guau\"\n",
        "\n"
      ],
      "metadata": {
        "id": "XFChPytkQvU4"
      },
      "execution_count": null,
      "outputs": []
    },
    {
      "cell_type": "code",
      "source": [
        "class Vehiculo:\n",
        "    def __init__(self, marca, modelo):\n",
        "        self.marca = marca\n",
        "        self.modelo = modelo\n",
        "\n",
        "    def arrancar(self):\n",
        "        print(f\"{self.marca} {self.modelo} ha arrancado.\")\n",
        "\n",
        "class Coche(Vehiculo):\n",
        "    def acelerar(self):\n",
        "        print(f\"{self.marca} {self.modelo} está acelerando.\")\n",
        "\n",
        "class Camion(Vehiculo):\n",
        "    def cargar(self):\n",
        "        print(f\"{self.marca} {self.modelo} está cargando mercancía.\")"
      ],
      "metadata": {
        "id": "i6jF0ezWRq05"
      },
      "execution_count": null,
      "outputs": []
    },
    {
      "cell_type": "markdown",
      "source": [
        "Polimorfismo"
      ],
      "metadata": {
        "id": "MLhEezixUY5q"
      }
    },
    {
      "cell_type": "code",
      "source": [
        "class Animal:\n",
        "    def sonido(self):\n",
        "        pass\n",
        "\n",
        "class Perro(Animal):\n",
        "    def sonido(self):\n",
        "        return \"Guau\"\n",
        "\n",
        "class Gato(Animal):\n",
        "    def sonido(self):\n",
        "        return \"Miau\"\n",
        "\n",
        "# Función polimórfica\n",
        "def hacer_sonar(animal):\n",
        "    return animal.sonido()\n",
        "\n",
        "# Creación de instancias\n",
        "perro = Perro()\n",
        "gato = Gato()\n",
        "\n",
        "# Llamada a la función polimórfica\n",
        "print(hacer_sonar(perro))  # Salida: Guau\n",
        "print(hacer_sonar(gato))   # Salida: Miau\n"
      ],
      "metadata": {
        "colab": {
          "base_uri": "https://localhost:8080/"
        },
        "id": "y06AagSSUYjX",
        "outputId": "e159a921-fbac-42b4-d335-ac661e8a267e"
      },
      "execution_count": null,
      "outputs": [
        {
          "output_type": "stream",
          "name": "stdout",
          "text": [
            "Guau\n",
            "Miau\n"
          ]
        }
      ]
    },
    {
      "cell_type": "code",
      "source": [
        "# Interfaz común para operaciones matemáticas\n",
        "class OperacionMatematica:\n",
        "    def ejecutar(self, a, b):\n",
        "        pass\n",
        "\n",
        "# Clases que implementan la interfaz\n",
        "class Suma(OperacionMatematica):\n",
        "    def ejecutar(self, a, b):\n",
        "        return a + b\n",
        "\n",
        "class Resta(OperacionMatematica):\n",
        "    def ejecutar(self, a, b):\n",
        "        return a - b\n",
        "\n",
        "# Uso del polimorfismo\n",
        "operacion1 = Suma()\n",
        "operacion2 = Resta()\n",
        "\n",
        "resultado1 = operacion1.ejecutar(5, 3)  # Suma\n",
        "resultado2 = operacion2.ejecutar(5, 3)  # Resta\n",
        "\n",
        "print(resultado1)  # Salida: 8\n",
        "print(resultado2)  # Salida: 2\n"
      ],
      "metadata": {
        "colab": {
          "base_uri": "https://localhost:8080/"
        },
        "id": "taCbCI5AV8KH",
        "outputId": "67e2c386-6413-4fc4-b3d5-ee8caecdd690"
      },
      "execution_count": null,
      "outputs": [
        {
          "output_type": "stream",
          "name": "stdout",
          "text": [
            "8\n",
            "2\n"
          ]
        }
      ]
    },
    {
      "cell_type": "code",
      "source": [
        "# Interfaz común para formas geométricas\n",
        "class FormaGeometrica:\n",
        "    def area(self):\n",
        "        pass\n",
        "\n",
        "# Clases que implementan la interfaz\n",
        "class Circulo(FormaGeometrica):\n",
        "    def __init__(self, radio):\n",
        "        self.radio = radio\n",
        "\n",
        "    def area(self):\n",
        "        return 3.14 * self.radio**2\n",
        "\n",
        "class Cuadrado(FormaGeometrica):\n",
        "    def __init__(self, lado):\n",
        "        self.lado = lado\n",
        "\n",
        "    def area(self):\n",
        "        return self.lado**2\n",
        "\n",
        "# Uso del polimorfismo\n",
        "forma1 = Circulo(5)\n",
        "forma2 = Cuadrado(4)\n",
        "\n",
        "area1 = forma1.area()  # Área del círculo\n",
        "area2 = forma2.area()  # Área del cuadrado\n",
        "\n",
        "print(area1)  # Salida: 78.5\n",
        "print(area2)  # Salida: 16\n"
      ],
      "metadata": {
        "id": "-wqyJmL-WBuI",
        "outputId": "7e121d7a-942a-45f5-ff8b-de0740b0f322",
        "colab": {
          "base_uri": "https://localhost:8080/"
        }
      },
      "execution_count": null,
      "outputs": [
        {
          "output_type": "stream",
          "name": "stdout",
          "text": [
            "78.5\n",
            "16\n"
          ]
        }
      ]
    },
    {
      "cell_type": "code",
      "source": [
        "# Clase base para personajes\n",
        "class Personaje:\n",
        "    def atacar(self):\n",
        "        pass\n",
        "\n",
        "# Clases que heredan de Personaje\n",
        "class Guerrero(Personaje):\n",
        "    def atacar(self):\n",
        "        return \"Espada\"\n",
        "\n",
        "class Mago(Personaje):\n",
        "    def atacar(self):\n",
        "        return \"Hechizo\"\n",
        "\n",
        "# Uso del polimorfismo\n",
        "jugador1 = Guerrero()\n",
        "jugador2 = Mago()\n",
        "\n",
        "ataque1 = jugador1.atacar()  # Ataque del guerrero\n",
        "ataque2 = jugador2.atacar()  # Ataque del mago\n",
        "\n",
        "print(ataque1)  # Salida: Espada\n",
        "print(ataque2)  # Salida: Hechizo\n"
      ],
      "metadata": {
        "id": "yr4CLluSWFLV",
        "outputId": "4a61626b-0d7c-4401-8e73-7ffe77f66514",
        "colab": {
          "base_uri": "https://localhost:8080/"
        }
      },
      "execution_count": null,
      "outputs": [
        {
          "output_type": "stream",
          "name": "stdout",
          "text": [
            "Espada\n",
            "Hechizo\n"
          ]
        }
      ]
    }
  ]
}